{
 "cells": [
  {
   "cell_type": "code",
   "execution_count": 14,
   "metadata": {},
   "outputs": [
    {
     "name": "stdout",
     "output_type": "stream",
     "text": [
      "[{'close': 3.81, 'time': '2018-11-20,11:00'}, {'close': 3.84, 'time': '2018-11-21,11:00'}, {'close': 3.53, 'time': '2018-11-22,11:00'}, {'close': 3.66, 'time': '2018-11-23,11:00'}, {'close': 3.3, 'time': '2018-11-24,11:00'}, {'close': 3.4, 'time': '2018-11-25,11:00'}, {'close': 3.24, 'time': '2018-11-26,11:00'}, {'close': 3.05, 'time': '2018-11-27,11:00'}, {'close': 3.3, 'time': '2018-11-28,11:00'}, {'close': 3.04, 'time': '2018-11-29,11:00'}, {'close': 2.89, 'time': '2018-11-30,11:00'}, {'close': 2.97, 'time': '2018-12-01,11:00'}, {'close': 2.87, 'time': '2018-12-02,11:00'}, {'close': 2.59, 'time': '2018-12-03,11:00'}, {'close': 2.47, 'time': '2018-12-04,11:00'}, {'close': 2.19, 'time': '2018-12-05,11:00'}, {'close': 1.85, 'time': '2018-12-06,11:00'}, {'close': 1.76, 'time': '2018-12-07,11:00'}, {'close': 1.86, 'time': '2018-12-08,11:00'}, {'close': 2.05, 'time': '2018-12-09,11:00'}, {'close': 1.95, 'time': '2018-12-10,11:00'}, {'close': 1.86, 'time': '2018-12-11,11:00'}, {'close': 2.01, 'time': '2018-12-12,11:00'}, {'close': 1.87, 'time': '2018-12-13,11:00'}, {'close': 1.85, 'time': '2018-12-14,11:00'}, {'close': 1.93, 'time': '2018-12-15,11:00'}, {'close': 1.95, 'time': '2018-12-16,11:00'}, {'close': 2.45, 'time': '2018-12-17,11:00'}, {'close': 2.7, 'time': '2018-12-18,11:00'}, {'close': 2.52, 'time': '2018-12-19,11:00'}, {'close': 2.72, 'time': '2018-12-20,11:00'}]\n"
     ]
    }
   ],
   "source": [
    "import os\n",
    "import requests\n",
    "import json\n",
    "from datetime import datetime\n",
    "\n",
    "def getHistoricalData(symbol,interval):\n",
    "    if interval == 'day':\n",
    "        url = \"https://min-api.cryptocompare.com/data/histohour?fsym=%s&tsym=USD&limit=24\"%symbol\n",
    "    elif interval =='month':\n",
    "        url = \"https://min-api.cryptocompare.com/data/histoday?fsym=%s&tsym=USD&limit=30\"%symbol\n",
    "    elif interval == 'year':\n",
    "        url = \"https://min-api.cryptocompare.com/data/histoday?fsym=%s&tsym=USD&limit=365\"%symbol\n",
    "    response = requests.get(url)\n",
    "    data_list =[]\n",
    "    for x in response.json()['Data']:\n",
    "        data = {}\n",
    "        data['close'] = x['close']\n",
    "        data['time'] = datetime.fromtimestamp(x['time']).strftime('%Y-%m-%d,%H:%M')\n",
    "#         data['high'] = x['high']\n",
    "#         data['low'] = x['low']\n",
    "#         data['open'] = x['open']\n",
    "        data_list.append(data)\n",
    "    return data_list\n",
    "    \n",
    "getHistoricalData('EOS','month')\n",
    "\n"
   ]
  },
  {
   "cell_type": "code",
   "execution_count": null,
   "metadata": {},
   "outputs": [],
   "source": []
  }
 ],
 "metadata": {
  "kernelspec": {
   "display_name": "Python 3",
   "language": "python",
   "name": "python3"
  },
  "language_info": {
   "codemirror_mode": {
    "name": "ipython",
    "version": 3
   },
   "file_extension": ".py",
   "mimetype": "text/x-python",
   "name": "python",
   "nbconvert_exporter": "python",
   "pygments_lexer": "ipython3",
   "version": "3.6.5"
  }
 },
 "nbformat": 4,
 "nbformat_minor": 2
}
