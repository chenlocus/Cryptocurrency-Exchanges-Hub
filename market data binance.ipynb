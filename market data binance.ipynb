{
 "cells": [
  {
   "cell_type": "code",
   "execution_count": 6,
   "metadata": {},
   "outputs": [
    {
     "name": "stdout",
     "output_type": "stream",
     "text": [
      "XRPUSDT\n",
      "{\"bid\": \"0.34782000\", \"ask\": \"0.34795000\", \"trade\": \"0.34783000\"}\n"
     ]
    }
   ],
   "source": [
    "# gevent\n",
    "# bs4\n",
    "# gunicorn\n",
    "import os\n",
    "import requests\n",
    "import json\n",
    "\n",
    "#round(x,2)\n",
    "def getSymbol(code):\n",
    "    symbol_list = requests.get('https://api.binance.com/api/v1/exchangeInfo')\n",
    "    \n",
    "    for i in symbol_list.json()['symbols']:\n",
    "        symbol = i['symbol']\n",
    "        if symbol.startswith(code.upper()) & symbol.endswith('USDT'):\n",
    "            return symbol\n",
    "#         elif symbol.startswith(code.upper())&symbol.endswith('BTC'):\n",
    "#             return symbol\n",
    "    return None\n",
    "\n",
    "def getUSDPrice(symbol):\n",
    "    symbol = getSymbol(symbol)\n",
    "    print (symbol)\n",
    "    url = \"https://api.binance.com/api/v3/ticker/bookTicker?symbol=%s\"%symbol\n",
    "    response = requests.get(url)\n",
    "    data = {}\n",
    "    data['bid'] = response.json()['bidPrice']\n",
    "    data['ask'] = response.json()['askPrice']\n",
    "    URL = \"https://api.binance.com/api/v1/trades\" \n",
    "    payload = {'symbol': symbol, 'limit':1}\n",
    "    response = requests.get(url=URL,params=payload)\n",
    "    data['trade'] = response.json()[0]['price']\n",
    "    if symbol.endswith('USDT'):\n",
    "        return json.dumps(data)\n",
    "    else:\n",
    "        response = requests.get('https://api.binance.com/api/v1/trades?symbol=BTCUSDT&limit=1')\n",
    "        btc_price = float(response.json()[0]['price'])\n",
    "        data['bid'] = round(float(data['bid'])*btc_price,4)\n",
    "        data['ask'] = round(float(data['ask'])*btc_price,4)\n",
    "        data['trade'] = round(float(data['trade'])*btc_price,4)\n",
    "        print(data)\n",
    "        return json.dumps(data)\n",
    "    \n",
    "                \n",
    "symbol = 'XRP'\n",
    "data = getUSDPrice(symbol)\n",
    "print(data)"
   ]
  },
  {
   "cell_type": "code",
   "execution_count": null,
   "metadata": {},
   "outputs": [],
   "source": []
  }
 ],
 "metadata": {
  "kernelspec": {
   "display_name": "Python 3",
   "language": "python",
   "name": "python3"
  },
  "language_info": {
   "codemirror_mode": {
    "name": "ipython",
    "version": 3
   },
   "file_extension": ".py",
   "mimetype": "text/x-python",
   "name": "python",
   "nbconvert_exporter": "python",
   "pygments_lexer": "ipython3",
   "version": "3.6.5"
  }
 },
 "nbformat": 4,
 "nbformat_minor": 2
}
