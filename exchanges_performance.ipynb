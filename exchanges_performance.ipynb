{
 "cells": [
  {
   "cell_type": "code",
   "execution_count": null,
   "metadata": {},
   "outputs": [],
   "source": [
    "# coding: utf-8\n",
    "\n",
    "# In[ ]:\n",
    "\n",
    "import pandas as pd\n",
    "import os\n",
    "import requests\n",
    "import exchanges\n",
    "import time\n",
    "from multiprocessing.pool import ThreadPool\n",
    "import pkgutil\n",
    "\n",
    "exchange_list = []\n",
    "prefix = exchanges.__name__ + \".\"\n",
    "for importer, modname, ispkg in pkgutil.iter_modules(exchanges.__path__,prefix):\n",
    "    print (\"Found submodule %s (is a package: %s)\"% (modname, ispkg))\n",
    "    module = __import__(modname, fromlist=\"exchanges\")\n",
    "    exchange_list.append(module)\n",
    "\n",
    "\n",
    "\n",
    "\n",
    "def getRealtimeData(symbol):\n",
    "    results = []\n",
    "    pool = ThreadPool()\n",
    "    for exchange in exchange_list:\n",
    "        results.append(pool.apply_async(exchange.getUSDPrice, args = (symbol,)))\n",
    "\n",
    "    price_list = [r.get() for r in results if r is not None and r.get() is not None]\n",
    "    pool.close()\n",
    "    pool.join()\n",
    "    \n",
    "    if not price_list:\n",
    "        return None\n",
    "    df = pd.DataFrame(price_list)\n",
    "    print(df)\n",
    "    df = df[['source','bid','ask','trade']]\n",
    "    df.columns=['Exchange','BestBid','BestAsk','Last Trade Price']\n",
    "    return df\n",
    "\n",
    "\n",
    "\n",
    "symbols = {'BTC':'Bitcoin','ETH':'Ethereum','BCH':'Bitcoin Cash','LTC':'Litecoin',\n",
    "           'EOS':'EOS','XRP':'Ripple','STEEM':'Steem','BSV':'Bitcoin SV','TRX':'TRON',\n",
    "           'ADA':'Cardano','MIOTA':'IOTA','XMR':'Monero','BNB':'Binance Coin',\n",
    "           'DASH':'Dash','XEM':'NEM','ETC':'Ethereum Classic','NEO':'NEO','WAVES':'Waves','ZEC':'Zcash'}\n",
    "\n",
    "for symbol in symbols:\n",
    "    time3 = time.time()\n",
    "    getRealtimeData(symbol)\n",
    "    time4 = time.time()\n",
    "    print (\"time spent:\",symbol,str(time4-time3))"
   ]
  }
 ],
 "metadata": {
  "kernelspec": {
   "display_name": "Python 3",
   "language": "python",
   "name": "python3"
  },
  "language_info": {
   "codemirror_mode": {
    "name": "ipython",
    "version": 3
   },
   "file_extension": ".py",
   "mimetype": "text/x-python",
   "name": "python",
   "nbconvert_exporter": "python",
   "pygments_lexer": "ipython3",
   "version": "3.7.1"
  }
 },
 "nbformat": 4,
 "nbformat_minor": 2
}
