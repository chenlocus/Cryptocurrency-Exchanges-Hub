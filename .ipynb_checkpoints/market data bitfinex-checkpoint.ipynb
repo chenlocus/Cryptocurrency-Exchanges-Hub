{
 "cells": [
  {
   "cell_type": "code",
   "execution_count": 1,
   "metadata": {},
   "outputs": [
    {
     "name": "stdout",
     "output_type": "stream",
     "text": [
      "bntusd\n",
      "{\"bid\": \"0.4782\", \"ask\": \"0.5465\", \"trade\": \"0.51678\"}\n"
     ]
    }
   ],
   "source": [
    "# gevent\n",
    "# bs4\n",
    "# gunicorn\n",
    "import os\n",
    "import requests\n",
    "import json\n",
    "\n",
    "\n",
    "def getSymbol(code):\n",
    "    symbol_list = requests.get('https://api.bitfinex.com/v1/symbols')\n",
    "    for i in symbol_list.json():\n",
    "        if i.startswith(code.lower()):\n",
    "            if i.endswith('usd'):\n",
    "                return i\n",
    "            elif i.endswith('btc'):\n",
    "                return i\n",
    "    return None\n",
    "\n",
    "def getUSDPrice(symbol):\n",
    "    symbol = getSymbol(symbol)\n",
    "    print (symbol)\n",
    "    url = \"https://api.bitfinex.com/v1/pubticker/\"+symbol\n",
    "    response = requests.get(url)\n",
    "    data = {}\n",
    "    data['bid'] = response.json()['bid']\n",
    "    data['ask'] = response.json()['ask']\n",
    "    data['trade'] = response.json()['last_price']\n",
    "    if symbol.endswith('usd'):\n",
    "        return json.dumps(data)\n",
    "    else:\n",
    "        response = requests.get('https://api.bitfinex.com/v1/pubticker/btcusd')\n",
    "        btc_price = response.json()['last_price']\n",
    "        data['bid'] = data['bid']*btc_price\n",
    "        data['ask'] = data['ask']*btc_price\n",
    "        data['trade'] = data['trade']*btc_price\n",
    "        return json.dumps(data)\n",
    "    \n",
    "                \n",
    "symbol = 'BNT'\n",
    "data = getUSDPrice(symbol)\n",
    "print(data)\n"
   ]
  },
  {
   "cell_type": "code",
   "execution_count": null,
   "metadata": {},
   "outputs": [],
   "source": []
  }
 ],
 "metadata": {
  "kernelspec": {
   "display_name": "Python 3",
   "language": "python",
   "name": "python3"
  },
  "language_info": {
   "codemirror_mode": {
    "name": "ipython",
    "version": 3
   },
   "file_extension": ".py",
   "mimetype": "text/x-python",
   "name": "python",
   "nbconvert_exporter": "python",
   "pygments_lexer": "ipython3",
   "version": "3.6.5"
  }
 },
 "nbformat": 4,
 "nbformat_minor": 2
}
