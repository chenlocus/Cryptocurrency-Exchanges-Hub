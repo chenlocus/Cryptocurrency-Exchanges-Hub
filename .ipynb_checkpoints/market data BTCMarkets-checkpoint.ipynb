{
 "cells": [
  {
   "cell_type": "code",
   "execution_count": 1,
   "metadata": {},
   "outputs": [
    {
     "name": "stdout",
     "output_type": "stream",
     "text": [
      "BTC\n",
      "{\"bid\": 3500.6197, \"ask\": 3513.5037, \"trade\": 3513.4966}\n"
     ]
    }
   ],
   "source": [
    "# gevent\n",
    "# bs4\n",
    "# gunicorn\n",
    "import os\n",
    "import requests\n",
    "import json\n",
    "\n",
    "#round(x,2)\n",
    "def getSymbol(code):\n",
    "    symbol_list = requests.get('https://api.btcmarkets.net/v2/market/active')\n",
    "    \n",
    "    for i in symbol_list.json()['markets']:\n",
    "        symbol = i['instrument']\n",
    "        if code == symbol:\n",
    "            return symbol        \n",
    "    return None\n",
    "\n",
    "def getUSDPrice(symbol):\n",
    "    symbol = getSymbol(symbol)\n",
    "    print (symbol)\n",
    "    url = \"https://api.btcmarkets.net/market/%s/AUD/tick\"%symbol\n",
    "    response = requests.get(url)\n",
    "    data = {}\n",
    "    data['bid'] = response.json()['bestBid']\n",
    "    data['ask'] = response.json()['bestAsk']\n",
    "    data['trade'] = response.json()['lastPrice']\n",
    "    \n",
    "    response = requests.get('http://free.currencyconverterapi.com/api/v5/convert?q=AUD_USD&compact=y')\n",
    "    exchange_rate = float(response.json()['AUD_USD']['val'])\n",
    "    data['bid'] = round(float(data['bid'])*exchange_rate,4)\n",
    "    data['ask'] = round(float(data['ask'])*exchange_rate,4)\n",
    "    data['trade'] = round(float(data['trade'])*exchange_rate,4)\n",
    "    return json.dumps(data)\n",
    "    \n",
    "                \n",
    "symbol = 'BTC'\n",
    "data = getUSDPrice(symbol)\n",
    "print(data)"
   ]
  },
  {
   "cell_type": "code",
   "execution_count": 9,
   "metadata": {},
   "outputs": [
    {
     "name": "stdout",
     "output_type": "stream",
     "text": [
      "https://api.btcmarkets.net/v2/market/active\n",
      "[{'instrument': 'BTC', 'currency': 'AUD'}, {'instrument': 'LTC', 'currency': 'AUD'}, {'instrument': 'LTC', 'currency': 'BTC'}, {'instrument': 'ETH', 'currency': 'BTC'}, {'instrument': 'ETH', 'currency': 'AUD'}, {'instrument': 'ETC', 'currency': 'AUD'}, {'instrument': 'ETC', 'currency': 'BTC'}, {'instrument': 'XRP', 'currency': 'AUD'}, {'instrument': 'XRP', 'currency': 'BTC'}, {'instrument': 'POWR', 'currency': 'AUD'}, {'instrument': 'POWR', 'currency': 'BTC'}, {'instrument': 'OMG', 'currency': 'AUD'}, {'instrument': 'OMG', 'currency': 'BTC'}, {'instrument': 'BCHABC', 'currency': 'AUD'}, {'instrument': 'BCHABC', 'currency': 'BTC'}, {'instrument': 'BCHSV', 'currency': 'AUD'}, {'instrument': 'BCHSV', 'currency': 'BTC'}]\n"
     ]
    }
   ],
   "source": [
    "# gevent\n",
    "# bs4\n",
    "# gunicorn\n",
    "#https://github.com/BTCMarkets/API/wiki/Market-data-API\n",
    "import os\n",
    "import requests\n",
    "\n",
    "URL = \"https://api.btcmarkets.net/v2/market/active\" \n",
    "response = requests.get(URL)\n",
    "print(response.url)\n",
    "print(response.json()['markets'])\n"
   ]
  },
  {
   "cell_type": "code",
   "execution_count": 10,
   "metadata": {},
   "outputs": [
    {
     "name": "stdout",
     "output_type": "stream",
     "text": [
      "https://api.btcmarkets.net/market/BTC/AUD/tick\n",
      "{'bestBid': 4718.4, 'bestAsk': 4738.92, 'lastPrice': 4738.92, 'currency': 'AUD', 'instrument': 'BTC', 'timestamp': 1544486818, 'volume24h': 386.23458}\n"
     ]
    }
   ],
   "source": [
    "import os\n",
    "import requests\n",
    "\n",
    "URL = \"https://api.btcmarkets.net/market/BTC/AUD/tick\" \n",
    "response = requests.get(URL)\n",
    "print(response.url)\n",
    "print(response.json())\n"
   ]
  },
  {
   "cell_type": "code",
   "execution_count": 1,
   "metadata": {},
   "outputs": [
    {
     "name": "stdout",
     "output_type": "stream",
     "text": [
      "http://free.currencyconverterapi.com/api/v5/convert?q=AUD_USD&compact=y\n",
      "{'AUD_USD': {'val': 0.717901}}\n"
     ]
    }
   ],
   "source": [
    "import os\n",
    "import requests\n",
    "\n",
    "URL = \"http://free.currencyconverterapi.com/api/v5/convert?q=AUD_USD&compact=y\" \n",
    "response = requests.get(URL)\n",
    "print(response.url)\n",
    "print(response.json())\n"
   ]
  },
  {
   "cell_type": "code",
   "execution_count": null,
   "metadata": {},
   "outputs": [],
   "source": []
  }
 ],
 "metadata": {
  "kernelspec": {
   "display_name": "Python 3",
   "language": "python",
   "name": "python3"
  },
  "language_info": {
   "codemirror_mode": {
    "name": "ipython",
    "version": 3
   },
   "file_extension": ".py",
   "mimetype": "text/x-python",
   "name": "python",
   "nbconvert_exporter": "python",
   "pygments_lexer": "ipython3",
   "version": "3.6.5"
  }
 },
 "nbformat": 4,
 "nbformat_minor": 2
}
