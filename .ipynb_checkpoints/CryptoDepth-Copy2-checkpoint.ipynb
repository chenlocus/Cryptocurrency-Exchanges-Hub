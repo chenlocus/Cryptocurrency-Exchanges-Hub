{
 "cells": [
  {
   "cell_type": "code",
   "execution_count": 10,
   "metadata": {},
   "outputs": [
    {
     "name": "stdout",
     "output_type": "stream",
     "text": [
      " * Serving Flask app \"__main__\" (lazy loading)\n",
      " * Environment: production\n",
      "   WARNING: Do not use the development server in a production environment.\n",
      "   Use a production WSGI server instead.\n",
      " * Debug mode: off\n"
     ]
    },
    {
     "name": "stderr",
     "output_type": "stream",
     "text": [
      " * Running on http://127.0.0.1:8000/ (Press CTRL+C to quit)\n",
      "127.0.0.1 - - [21/Dec/2018 11:45:27] \"GET / HTTP/1.1\" 200 -\n",
      "127.0.0.1 - - [21/Dec/2018 11:45:27] \"GET /_dash-layout HTTP/1.1\" 200 -\n",
      "127.0.0.1 - - [21/Dec/2018 11:45:27] \"GET /_dash-dependencies HTTP/1.1\" 200 -\n",
      "[2018-12-21 11:45:27,551] ERROR in app: Exception on /_dash-update-component [POST]\n",
      "Traceback (most recent call last):\n",
      "  File \"c:\\users\\hchen\\appdata\\local\\programs\\python\\python36-32\\lib\\site-packages\\flask\\app.py\", line 2292, in wsgi_app\n",
      "    response = self.full_dispatch_request()\n",
      "  File \"c:\\users\\hchen\\appdata\\local\\programs\\python\\python36-32\\lib\\site-packages\\flask\\app.py\", line 1815, in full_dispatch_request\n",
      "    rv = self.handle_user_exception(e)\n",
      "  File \"c:\\users\\hchen\\appdata\\local\\programs\\python\\python36-32\\lib\\site-packages\\flask\\app.py\", line 1718, in handle_user_exception\n",
      "    reraise(exc_type, exc_value, tb)\n",
      "  File \"c:\\users\\hchen\\appdata\\local\\programs\\python\\python36-32\\lib\\site-packages\\flask\\_compat.py\", line 35, in reraise\n",
      "    raise value\n",
      "  File \"c:\\users\\hchen\\appdata\\local\\programs\\python\\python36-32\\lib\\site-packages\\flask\\app.py\", line 1813, in full_dispatch_request\n",
      "    rv = self.dispatch_request()\n",
      "  File \"c:\\users\\hchen\\appdata\\local\\programs\\python\\python36-32\\lib\\site-packages\\flask\\app.py\", line 1799, in dispatch_request\n",
      "    return self.view_functions[rule.endpoint](**req.view_args)\n",
      "  File \"c:\\users\\hchen\\appdata\\local\\programs\\python\\python36-32\\lib\\site-packages\\dash\\dash.py\", line 966, in dispatch\n",
      "    return self.callback_map[target_id]['callback'](*args)\n",
      "  File \"c:\\users\\hchen\\appdata\\local\\programs\\python\\python36-32\\lib\\site-packages\\dash\\dash.py\", line 906, in add_context\n",
      "    output_value = func(*args, **kwargs)\n",
      "  File \"<ipython-input-10-c921a86c4e3c>\", line 122, in graph_update\n",
      "    return {'data': [go.Scatter(x=df['time'],\n",
      "UnboundLocalError: local variable 'df' referenced before assignment\n",
      "127.0.0.1 - - [21/Dec/2018 11:45:27] \"POST /_dash-update-component HTTP/1.1\" 500 -\n"
     ]
    },
    {
     "name": "stdout",
     "output_type": "stream",
     "text": [
      "BTC-USDT\n",
      "BTC\n",
      "xbt\n",
      "btcusd\n",
      "BTCUSDT\n"
     ]
    },
    {
     "name": "stderr",
     "output_type": "stream",
     "text": [
      "127.0.0.1 - - [21/Dec/2018 11:45:30] \"POST /_dash-update-component HTTP/1.1\" 200 -\n",
      "127.0.0.1 - - [21/Dec/2018 11:45:35] \"POST /_dash-update-component HTTP/1.1\" 200 -\n"
     ]
    },
    {
     "name": "stdout",
     "output_type": "stream",
     "text": [
      "BTC-USDT\n",
      "BTC\n",
      "xbt\n",
      "btcusd\n",
      "BTCUSDT\n"
     ]
    },
    {
     "name": "stderr",
     "output_type": "stream",
     "text": [
      "127.0.0.1 - - [21/Dec/2018 11:45:39] \"POST /_dash-update-component HTTP/1.1\" 200 -\n",
      "127.0.0.1 - - [21/Dec/2018 11:45:40] \"POST /_dash-update-component HTTP/1.1\" 200 -\n",
      "127.0.0.1 - - [21/Dec/2018 11:45:43] \"POST /_dash-update-component HTTP/1.1\" 200 -\n"
     ]
    },
    {
     "name": "stdout",
     "output_type": "stream",
     "text": [
      "BTC-USDT\n",
      "BTC\n",
      "xbt\n",
      "btcusd\n",
      "BTCUSDT\n"
     ]
    },
    {
     "name": "stderr",
     "output_type": "stream",
     "text": [
      "127.0.0.1 - - [21/Dec/2018 11:45:50] \"POST /_dash-update-component HTTP/1.1\" 200 -\n"
     ]
    },
    {
     "name": "stdout",
     "output_type": "stream",
     "text": [
      "BTC-USDT\n",
      "BTC\n",
      "xbt\n",
      "btcusd\n",
      "BTCUSDT\n"
     ]
    },
    {
     "name": "stderr",
     "output_type": "stream",
     "text": [
      "127.0.0.1 - - [21/Dec/2018 11:46:00] \"POST /_dash-update-component HTTP/1.1\" 200 -\n",
      "127.0.0.1 - - [21/Dec/2018 11:46:06] \"POST /_dash-update-component HTTP/1.1\" 200 -\n"
     ]
    },
    {
     "name": "stdout",
     "output_type": "stream",
     "text": [
      "BTC-USDT\n",
      "BTC\n",
      "xbt\n",
      "btcusd\n",
      "BTCUSDT\n"
     ]
    },
    {
     "name": "stderr",
     "output_type": "stream",
     "text": [
      "127.0.0.1 - - [21/Dec/2018 11:46:10] \"POST /_dash-update-component HTTP/1.1\" 200 -\n"
     ]
    },
    {
     "name": "stdout",
     "output_type": "stream",
     "text": [
      "BTC-USDT\n",
      "BTC\n",
      "xbt\n",
      "BTCUSDT\n",
      "btcusd\n"
     ]
    },
    {
     "name": "stderr",
     "output_type": "stream",
     "text": [
      "127.0.0.1 - - [21/Dec/2018 11:46:20] \"POST /_dash-update-component HTTP/1.1\" 200 -\n"
     ]
    },
    {
     "name": "stdout",
     "output_type": "stream",
     "text": [
      "BTC-USDT\n",
      "BTC\n",
      "xbt\n",
      "btcusd\n",
      "BTCUSDT\n"
     ]
    },
    {
     "name": "stderr",
     "output_type": "stream",
     "text": [
      "127.0.0.1 - - [21/Dec/2018 11:46:34] \"POST /_dash-update-component HTTP/1.1\" 200 -\n"
     ]
    },
    {
     "name": "stdout",
     "output_type": "stream",
     "text": [
      "BTC-USDT\n",
      "BTC\n",
      "xbt\n",
      "BTCUSDT\n",
      "btcusd\n"
     ]
    },
    {
     "name": "stderr",
     "output_type": "stream",
     "text": [
      "127.0.0.1 - - [21/Dec/2018 11:46:41] \"POST /_dash-update-component HTTP/1.1\" 200 -\n"
     ]
    },
    {
     "name": "stdout",
     "output_type": "stream",
     "text": [
      "BTC-USDT\n",
      "BTC\n",
      "xbt\n",
      "btcusd\n",
      "BTCUSDT\n"
     ]
    },
    {
     "name": "stderr",
     "output_type": "stream",
     "text": [
      "127.0.0.1 - - [21/Dec/2018 11:46:52] \"POST /_dash-update-component HTTP/1.1\" 200 -\n"
     ]
    },
    {
     "name": "stdout",
     "output_type": "stream",
     "text": [
      "BTC-USDT\n",
      "BTC\n",
      "xbt\n",
      "btcusd\n",
      "BTCUSDT\n"
     ]
    },
    {
     "name": "stderr",
     "output_type": "stream",
     "text": [
      "127.0.0.1 - - [21/Dec/2018 11:47:00] \"POST /_dash-update-component HTTP/1.1\" 200 -\n"
     ]
    },
    {
     "name": "stdout",
     "output_type": "stream",
     "text": [
      "BTC-USDT\n",
      "BTC\n",
      "xbt\n",
      "BTCUSDT\n",
      "btcusd\n"
     ]
    },
    {
     "name": "stderr",
     "output_type": "stream",
     "text": [
      "127.0.0.1 - - [21/Dec/2018 11:47:10] \"POST /_dash-update-component HTTP/1.1\" 200 -\n"
     ]
    },
    {
     "name": "stdout",
     "output_type": "stream",
     "text": [
      "BTC-USDT\n",
      "BTC\n",
      "xbt\n",
      "btcusd\n",
      "BTCUSDT\n"
     ]
    },
    {
     "name": "stderr",
     "output_type": "stream",
     "text": [
      "127.0.0.1 - - [21/Dec/2018 11:47:20] \"POST /_dash-update-component HTTP/1.1\" 200 -\n",
      "127.0.0.1 - - [21/Dec/2018 11:47:33] \"GET / HTTP/1.1\" 200 -\n",
      "127.0.0.1 - - [21/Dec/2018 11:47:34] \"GET /_dash-layout HTTP/1.1\" 200 -\n",
      "127.0.0.1 - - [21/Dec/2018 11:47:34] \"GET /_dash-dependencies HTTP/1.1\" 200 -\n",
      "[2018-12-21 11:47:34,302] ERROR in app: Exception on /_dash-update-component [POST]\n",
      "Traceback (most recent call last):\n",
      "  File \"c:\\users\\hchen\\appdata\\local\\programs\\python\\python36-32\\lib\\site-packages\\flask\\app.py\", line 2292, in wsgi_app\n",
      "    response = self.full_dispatch_request()\n",
      "  File \"c:\\users\\hchen\\appdata\\local\\programs\\python\\python36-32\\lib\\site-packages\\flask\\app.py\", line 1815, in full_dispatch_request\n",
      "    rv = self.handle_user_exception(e)\n",
      "  File \"c:\\users\\hchen\\appdata\\local\\programs\\python\\python36-32\\lib\\site-packages\\flask\\app.py\", line 1718, in handle_user_exception\n",
      "    reraise(exc_type, exc_value, tb)\n",
      "  File \"c:\\users\\hchen\\appdata\\local\\programs\\python\\python36-32\\lib\\site-packages\\flask\\_compat.py\", line 35, in reraise\n",
      "    raise value\n",
      "  File \"c:\\users\\hchen\\appdata\\local\\programs\\python\\python36-32\\lib\\site-packages\\flask\\app.py\", line 1813, in full_dispatch_request\n",
      "    rv = self.dispatch_request()\n",
      "  File \"c:\\users\\hchen\\appdata\\local\\programs\\python\\python36-32\\lib\\site-packages\\flask\\app.py\", line 1799, in dispatch_request\n",
      "    return self.view_functions[rule.endpoint](**req.view_args)\n",
      "  File \"c:\\users\\hchen\\appdata\\local\\programs\\python\\python36-32\\lib\\site-packages\\dash\\dash.py\", line 966, in dispatch\n",
      "    return self.callback_map[target_id]['callback'](*args)\n",
      "  File \"c:\\users\\hchen\\appdata\\local\\programs\\python\\python36-32\\lib\\site-packages\\dash\\dash.py\", line 906, in add_context\n",
      "    output_value = func(*args, **kwargs)\n",
      "  File \"<ipython-input-10-c921a86c4e3c>\", line 122, in graph_update\n",
      "    return {'data': [go.Scatter(x=df['time'],\n",
      "UnboundLocalError: local variable 'df' referenced before assignment\n",
      "127.0.0.1 - - [21/Dec/2018 11:47:34] \"POST /_dash-update-component HTTP/1.1\" 500 -\n"
     ]
    },
    {
     "name": "stdout",
     "output_type": "stream",
     "text": [
      "BTC-USDT\n",
      "BTC\n",
      "xbt\n",
      "btcusd\n",
      "BTCUSDT\n"
     ]
    },
    {
     "name": "stderr",
     "output_type": "stream",
     "text": [
      "127.0.0.1 - - [21/Dec/2018 11:47:36] \"POST /_dash-update-component HTTP/1.1\" 200 -\n"
     ]
    },
    {
     "name": "stdout",
     "output_type": "stream",
     "text": [
      "BTC-USDT\n",
      "BTC\n",
      "xbt\n",
      "btcusd\n",
      "BTCUSDT\n"
     ]
    },
    {
     "name": "stderr",
     "output_type": "stream",
     "text": [
      "127.0.0.1 - - [21/Dec/2018 11:47:47] \"POST /_dash-update-component HTTP/1.1\" 200 -\n"
     ]
    },
    {
     "name": "stdout",
     "output_type": "stream",
     "text": [
      "BTC-USDT\n",
      "BTC\n",
      "xbt\n",
      "BTCUSDT\n",
      "btcusd\n"
     ]
    },
    {
     "name": "stderr",
     "output_type": "stream",
     "text": [
      "127.0.0.1 - - [21/Dec/2018 11:47:57] \"POST /_dash-update-component HTTP/1.1\" 200 -\n"
     ]
    },
    {
     "name": "stdout",
     "output_type": "stream",
     "text": [
      "BTC-USDT\n",
      "BTC\n",
      "xbt\n",
      "BTCUSDT\n",
      "btcusd\n"
     ]
    },
    {
     "name": "stderr",
     "output_type": "stream",
     "text": [
      "127.0.0.1 - - [21/Dec/2018 11:48:07] \"POST /_dash-update-component HTTP/1.1\" 200 -\n"
     ]
    },
    {
     "name": "stdout",
     "output_type": "stream",
     "text": [
      "BTC-USDT\n",
      "BTC\n",
      "xbt\n",
      "btcusd\n",
      "BTCUSDT\n"
     ]
    },
    {
     "name": "stderr",
     "output_type": "stream",
     "text": [
      "127.0.0.1 - - [21/Dec/2018 11:48:17] \"POST /_dash-update-component HTTP/1.1\" 200 -\n"
     ]
    },
    {
     "name": "stdout",
     "output_type": "stream",
     "text": [
      "BTC-USDT\n",
      "xbt\n",
      "BTC\n",
      "BTCUSDT\n",
      "btcusd\n"
     ]
    },
    {
     "name": "stderr",
     "output_type": "stream",
     "text": [
      "127.0.0.1 - - [21/Dec/2018 11:48:27] \"POST /_dash-update-component HTTP/1.1\" 200 -\n"
     ]
    },
    {
     "name": "stdout",
     "output_type": "stream",
     "text": [
      "BTC-USDT\n",
      "BTC\n",
      "xbt\n",
      "btcusd\n",
      "BTCUSDT\n"
     ]
    },
    {
     "name": "stderr",
     "output_type": "stream",
     "text": [
      "127.0.0.1 - - [21/Dec/2018 11:48:37] \"POST /_dash-update-component HTTP/1.1\" 200 -\n"
     ]
    },
    {
     "name": "stdout",
     "output_type": "stream",
     "text": [
      "BTC-USDT\n",
      "BTC\n",
      "xbt\n",
      "btcusd\n",
      "BTCUSDT\n"
     ]
    },
    {
     "name": "stderr",
     "output_type": "stream",
     "text": [
      "127.0.0.1 - - [21/Dec/2018 11:48:47] \"POST /_dash-update-component HTTP/1.1\" 200 -\n"
     ]
    },
    {
     "name": "stdout",
     "output_type": "stream",
     "text": [
      "BTC-USDT\n",
      "BTC\n",
      "xbt\n",
      "btcusd\n",
      "BTCUSDT\n"
     ]
    },
    {
     "name": "stderr",
     "output_type": "stream",
     "text": [
      "127.0.0.1 - - [21/Dec/2018 11:48:57] \"POST /_dash-update-component HTTP/1.1\" 200 -\n"
     ]
    },
    {
     "name": "stdout",
     "output_type": "stream",
     "text": [
      "BTC-USDT\n",
      "BTC\n",
      "xbt\n",
      "BTCUSDT\n",
      "btcusd\n"
     ]
    },
    {
     "name": "stderr",
     "output_type": "stream",
     "text": [
      "127.0.0.1 - - [21/Dec/2018 11:49:07] \"POST /_dash-update-component HTTP/1.1\" 200 -\n"
     ]
    },
    {
     "name": "stdout",
     "output_type": "stream",
     "text": [
      "BTC-USDT\n",
      "BTC\n",
      "xbt\n",
      "btcusd\n",
      "BTCUSDT\n"
     ]
    },
    {
     "name": "stderr",
     "output_type": "stream",
     "text": [
      "127.0.0.1 - - [21/Dec/2018 11:49:17] \"POST /_dash-update-component HTTP/1.1\" 200 -\n",
      "127.0.0.1 - - [21/Dec/2018 11:49:23] \"POST /_dash-update-component HTTP/1.1\" 200 -\n"
     ]
    },
    {
     "name": "stdout",
     "output_type": "stream",
     "text": [
      "BTC-USDT\n",
      "BTC\n",
      "xbt\n",
      "BTCUSDT\n",
      "btcusd\n"
     ]
    },
    {
     "name": "stderr",
     "output_type": "stream",
     "text": [
      "127.0.0.1 - - [21/Dec/2018 11:49:27] \"POST /_dash-update-component HTTP/1.1\" 200 -\n"
     ]
    },
    {
     "name": "stdout",
     "output_type": "stream",
     "text": [
      "BTC-USDT\n",
      "BTC\n",
      "xbt\n",
      "btcusd\n",
      "BTCUSDT\n"
     ]
    },
    {
     "name": "stderr",
     "output_type": "stream",
     "text": [
      "127.0.0.1 - - [21/Dec/2018 11:49:37] \"POST /_dash-update-component HTTP/1.1\" 200 -\n"
     ]
    },
    {
     "name": "stdout",
     "output_type": "stream",
     "text": [
      "BTC-USDT\n",
      "BTC\n",
      "xbt\n",
      "btcusd\n",
      "BTCUSDT\n"
     ]
    },
    {
     "name": "stderr",
     "output_type": "stream",
     "text": [
      "127.0.0.1 - - [21/Dec/2018 11:49:47] \"POST /_dash-update-component HTTP/1.1\" 200 -\n"
     ]
    },
    {
     "name": "stdout",
     "output_type": "stream",
     "text": [
      "BTC-USDT\n",
      "BTC\n",
      "xbt\n",
      "btcusd\n",
      "BTCUSDT\n"
     ]
    },
    {
     "name": "stderr",
     "output_type": "stream",
     "text": [
      "127.0.0.1 - - [21/Dec/2018 11:49:57] \"POST /_dash-update-component HTTP/1.1\" 200 -\n"
     ]
    },
    {
     "name": "stdout",
     "output_type": "stream",
     "text": [
      "BTC-USDT\n",
      "BTC\n",
      "xbt\n",
      "btcusd\n",
      "BTCUSDT\n"
     ]
    },
    {
     "name": "stderr",
     "output_type": "stream",
     "text": [
      "127.0.0.1 - - [21/Dec/2018 11:50:07] \"POST /_dash-update-component HTTP/1.1\" 200 -\n"
     ]
    },
    {
     "name": "stdout",
     "output_type": "stream",
     "text": [
      "BTC-USDT\n",
      "BTC\n",
      "xbt\n",
      "BTCUSDT\n",
      "btcusd\n"
     ]
    },
    {
     "name": "stderr",
     "output_type": "stream",
     "text": [
      "127.0.0.1 - - [21/Dec/2018 11:50:17] \"POST /_dash-update-component HTTP/1.1\" 200 -\n"
     ]
    },
    {
     "name": "stdout",
     "output_type": "stream",
     "text": [
      "BTC-USDT\n",
      "BTC\n",
      "xbt\n",
      "btcusd\n",
      "BTCUSDT\n"
     ]
    },
    {
     "name": "stderr",
     "output_type": "stream",
     "text": [
      "127.0.0.1 - - [21/Dec/2018 11:50:27] \"POST /_dash-update-component HTTP/1.1\" 200 -\n"
     ]
    },
    {
     "name": "stdout",
     "output_type": "stream",
     "text": [
      "BTC-USDT\n",
      "BTC\n",
      "xbt\n",
      "btcusd\n",
      "BTCUSDT\n",
      "BTC-USDT\n",
      "BTC\n",
      "xbt\n",
      "btcusd\n",
      "BTCUSDT\n"
     ]
    },
    {
     "name": "stderr",
     "output_type": "stream",
     "text": [
      "127.0.0.1 - - [21/Dec/2018 11:50:47] \"POST /_dash-update-component HTTP/1.1\" 200 -\n",
      "127.0.0.1 - - [21/Dec/2018 11:50:47] \"POST /_dash-update-component HTTP/1.1\" 200 -\n"
     ]
    },
    {
     "name": "stdout",
     "output_type": "stream",
     "text": [
      "BTC-USDT\n",
      "BTC\n",
      "xbt\n",
      "btcusd\n",
      "BTCUSDT\n"
     ]
    },
    {
     "name": "stderr",
     "output_type": "stream",
     "text": [
      "127.0.0.1 - - [21/Dec/2018 11:50:57] \"POST /_dash-update-component HTTP/1.1\" 200 -\n"
     ]
    },
    {
     "name": "stdout",
     "output_type": "stream",
     "text": [
      "BTC-USDT\n",
      "BTC\n",
      "xbt\n",
      "btcusd\n",
      "BTCUSDT\n"
     ]
    },
    {
     "name": "stderr",
     "output_type": "stream",
     "text": [
      "127.0.0.1 - - [21/Dec/2018 11:51:07] \"POST /_dash-update-component HTTP/1.1\" 200 -\n"
     ]
    },
    {
     "name": "stdout",
     "output_type": "stream",
     "text": [
      "BTC-USDT\n",
      "BTC\n",
      "xbt\n",
      "btcusd\n",
      "BTCUSDT\n"
     ]
    },
    {
     "name": "stderr",
     "output_type": "stream",
     "text": [
      "127.0.0.1 - - [21/Dec/2018 11:51:18] \"POST /_dash-update-component HTTP/1.1\" 200 -\n"
     ]
    },
    {
     "name": "stdout",
     "output_type": "stream",
     "text": [
      "BTC-USDT\n",
      "BTC\n",
      "xbt\n",
      "btcusd\n",
      "BTCUSDT\n"
     ]
    },
    {
     "name": "stderr",
     "output_type": "stream",
     "text": [
      "127.0.0.1 - - [21/Dec/2018 11:51:27] \"POST /_dash-update-component HTTP/1.1\" 200 -\n"
     ]
    },
    {
     "name": "stdout",
     "output_type": "stream",
     "text": [
      "BTC-USDT\n",
      "BTC\n",
      "btcusd\n",
      "BTCUSDT\n",
      "xbt\n"
     ]
    },
    {
     "name": "stderr",
     "output_type": "stream",
     "text": [
      "127.0.0.1 - - [21/Dec/2018 11:51:37] \"POST /_dash-update-component HTTP/1.1\" 200 -\n"
     ]
    },
    {
     "name": "stdout",
     "output_type": "stream",
     "text": [
      "BTC-USDT\n",
      "BTC\n",
      "xbt\n",
      "btcusd\n",
      "BTCUSDT\n"
     ]
    },
    {
     "name": "stderr",
     "output_type": "stream",
     "text": [
      "127.0.0.1 - - [21/Dec/2018 11:51:47] \"POST /_dash-update-component HTTP/1.1\" 200 -\n"
     ]
    },
    {
     "name": "stdout",
     "output_type": "stream",
     "text": [
      "BTC-USDT\n",
      "BTC\n",
      "xbt\n",
      "BTCUSDT\n",
      "btcusd\n"
     ]
    },
    {
     "name": "stderr",
     "output_type": "stream",
     "text": [
      "127.0.0.1 - - [21/Dec/2018 11:51:57] \"POST /_dash-update-component HTTP/1.1\" 200 -\n"
     ]
    },
    {
     "name": "stdout",
     "output_type": "stream",
     "text": [
      "BTC-USDT\n",
      "BTC\n",
      "xbt\n",
      "btcusd\n",
      "BTCUSDT\n"
     ]
    },
    {
     "name": "stderr",
     "output_type": "stream",
     "text": [
      "127.0.0.1 - - [21/Dec/2018 11:52:07] \"POST /_dash-update-component HTTP/1.1\" 200 -\n"
     ]
    },
    {
     "name": "stdout",
     "output_type": "stream",
     "text": [
      "BTC-USDT\n",
      "BTC\n",
      "xbt\n",
      "btcusd\n",
      "BTCUSDT\n"
     ]
    },
    {
     "name": "stderr",
     "output_type": "stream",
     "text": [
      "127.0.0.1 - - [21/Dec/2018 11:52:17] \"POST /_dash-update-component HTTP/1.1\" 200 -\n"
     ]
    },
    {
     "name": "stdout",
     "output_type": "stream",
     "text": [
      "BTC-USDT\n",
      "BTC\n",
      "xbt\n",
      "btcusd\n",
      "BTCUSDT\n"
     ]
    },
    {
     "name": "stderr",
     "output_type": "stream",
     "text": [
      "127.0.0.1 - - [21/Dec/2018 11:52:27] \"POST /_dash-update-component HTTP/1.1\" 200 -\n"
     ]
    },
    {
     "name": "stdout",
     "output_type": "stream",
     "text": [
      "BTC-USDT\n",
      "BTC\n",
      "xbt\n",
      "btcusd\n",
      "BTCUSDT\n"
     ]
    },
    {
     "name": "stderr",
     "output_type": "stream",
     "text": [
      "127.0.0.1 - - [21/Dec/2018 11:52:37] \"POST /_dash-update-component HTTP/1.1\" 200 -\n"
     ]
    },
    {
     "name": "stdout",
     "output_type": "stream",
     "text": [
      "BTC-USDT\n",
      "BTC\n",
      "xbt\n",
      "btcusd\n",
      "BTCUSDT\n"
     ]
    },
    {
     "name": "stderr",
     "output_type": "stream",
     "text": [
      "127.0.0.1 - - [21/Dec/2018 11:52:46] \"POST /_dash-update-component HTTP/1.1\" 200 -\n",
      "127.0.0.1 - - [21/Dec/2018 11:52:47] \"POST /_dash-update-component HTTP/1.1\" 200 -\n",
      "127.0.0.1 - - [21/Dec/2018 11:52:51] \"POST /_dash-update-component HTTP/1.1\" 200 -\n"
     ]
    },
    {
     "name": "stdout",
     "output_type": "stream",
     "text": [
      "BTC-USDT\n",
      "BTC\n",
      "xbt\n",
      "btcusd\n",
      "BTCUSDT\n"
     ]
    },
    {
     "name": "stderr",
     "output_type": "stream",
     "text": [
      "127.0.0.1 - - [21/Dec/2018 11:52:57] \"POST /_dash-update-component HTTP/1.1\" 200 -\n"
     ]
    },
    {
     "name": "stdout",
     "output_type": "stream",
     "text": [
      "BTC-USDT\n",
      "BTC\n",
      "xbt\n",
      "btcusd\n",
      "BTCUSDT\n"
     ]
    },
    {
     "name": "stderr",
     "output_type": "stream",
     "text": [
      "127.0.0.1 - - [21/Dec/2018 11:53:07] \"POST /_dash-update-component HTTP/1.1\" 200 -\n"
     ]
    },
    {
     "name": "stdout",
     "output_type": "stream",
     "text": [
      "BTC-USDT\n",
      "BTC\n",
      "xbt\n",
      "btcusd\n",
      "BTCUSDT\n"
     ]
    },
    {
     "name": "stderr",
     "output_type": "stream",
     "text": [
      "127.0.0.1 - - [21/Dec/2018 11:53:17] \"POST /_dash-update-component HTTP/1.1\" 200 -\n"
     ]
    },
    {
     "name": "stdout",
     "output_type": "stream",
     "text": [
      "BTC-USDT\n",
      "BTC\n",
      "xbt\n",
      "btcusd\n",
      "BTCUSDT\n"
     ]
    },
    {
     "name": "stderr",
     "output_type": "stream",
     "text": [
      "127.0.0.1 - - [21/Dec/2018 11:53:27] \"POST /_dash-update-component HTTP/1.1\" 200 -\n"
     ]
    },
    {
     "name": "stdout",
     "output_type": "stream",
     "text": [
      "BTC-USDT\n",
      "BTC\n",
      "xbt\n",
      "btcusd\n",
      "BTCUSDT\n"
     ]
    },
    {
     "name": "stderr",
     "output_type": "stream",
     "text": [
      "127.0.0.1 - - [21/Dec/2018 11:53:37] \"POST /_dash-update-component HTTP/1.1\" 200 -\n"
     ]
    },
    {
     "name": "stdout",
     "output_type": "stream",
     "text": [
      "BTC-USDT\n",
      "BTC\n",
      "xbt\n",
      "btcusd\n",
      "BTCUSDT\n"
     ]
    },
    {
     "name": "stderr",
     "output_type": "stream",
     "text": [
      "127.0.0.1 - - [21/Dec/2018 11:53:47] \"POST /_dash-update-component HTTP/1.1\" 200 -\n"
     ]
    },
    {
     "name": "stdout",
     "output_type": "stream",
     "text": [
      "BTC-USDT\n",
      "BTC\n",
      "xbt\n",
      "btcusd\n",
      "BTCUSDT\n"
     ]
    },
    {
     "name": "stderr",
     "output_type": "stream",
     "text": [
      "127.0.0.1 - - [21/Dec/2018 11:53:57] \"POST /_dash-update-component HTTP/1.1\" 200 -\n"
     ]
    },
    {
     "name": "stdout",
     "output_type": "stream",
     "text": [
      "BTC-USDT\n",
      "xbt\n",
      "BTC\n",
      "btcusd\n",
      "BTCUSDT\n"
     ]
    },
    {
     "name": "stderr",
     "output_type": "stream",
     "text": [
      "127.0.0.1 - - [21/Dec/2018 11:54:07] \"POST /_dash-update-component HTTP/1.1\" 200 -\n"
     ]
    }
   ],
   "source": [
    "import dash\n",
    "import dash_core_components as dcc\n",
    "import dash_html_components as html\n",
    "import plotly.graph_objs as go\n",
    "from dash.dependencies import Input, Output\n",
    "import pandas as pd\n",
    "import os\n",
    "import requests\n",
    "import exchanges.binance as binance\n",
    "import exchanges.bitfinex as bitfinex\n",
    "import exchanges.BTCMarkets as BTCMarkets\n",
    "import exchanges.independentreserve as independentreserve\n",
    "import exchanges.OKEx as OKEx\n",
    "import historicaldata as hisdata\n",
    "from multiprocessing.pool import ThreadPool\n",
    "\n",
    "\n",
    "symbols = ['BTC','ETH','EOS','XRP']\n",
    "\n",
    "tabs_styles = {\n",
    "    'height': '44px'\n",
    "}\n",
    "tab_style = {\n",
    "    'borderBottom': '1px solid #d6d6d6',\n",
    "    'padding': '6px',\n",
    "    'fontWeight': 'bold'\n",
    "}\n",
    "\n",
    "tab_selected_style = {\n",
    "    'borderTop': '1px solid #d6d6d6',\n",
    "    'borderBottom': '1px solid #d6d6d6',\n",
    "    'backgroundColor': '#119DFF',\n",
    "    'color': 'white',\n",
    "    'padding': '6px'\n",
    "}\n",
    "\n",
    "def getRealtimeData(symbol):\n",
    "    results = []\n",
    "    pool = ThreadPool()\n",
    "    results.append(pool.apply_async(binance.getUSDPrice, args = (symbol,)))\n",
    "    results.append(pool.apply_async(bitfinex.getUSDPrice, args = (symbol,)))\n",
    "    results.append(pool.apply_async(BTCMarkets.getUSDPrice, args = (symbol,)))\n",
    "    results.append(pool.apply_async(independentreserve.getUSDPrice, args = (symbol,)))\n",
    "    results.append(pool.apply_async(OKEx.getUSDPrice, args = (symbol,)))\n",
    "\n",
    "    price_list = [r.get() for r in results if r.get() is not None]\n",
    "    pool.close()\n",
    "    pool.join()\n",
    "\n",
    "    df = pd.DataFrame(price_list)\n",
    "    df = df[['source','bid','ask','trade']]\n",
    "    df.columns=['Exchange','BestBid','BestAsk','Last Trade Price']\n",
    "    return df\n",
    "    \n",
    "def getHistoricalData(symbol,interval):\n",
    "    data_list = hisdata.getHistoricalData(symbol,interval)\n",
    "    return pd.DataFrame(data_list)\n",
    "    \n",
    "def generate_table(dataframe, max_rows=10):\n",
    "    return html.Table(\n",
    "        # Header\n",
    "        [html.Tr([html.Th(col) for col in dataframe.columns])] +\n",
    "\n",
    "        # Body\n",
    "        [html.Tr([\n",
    "            html.Td(dataframe.iloc[i][col]) for col in dataframe.columns\n",
    "        ]) for i in range(min(len(dataframe), max_rows))]\n",
    "    )\n",
    "\n",
    "\n",
    "external_stylesheets = ['https://codepen.io/chriddyp/pen/bWLwgP.css']\n",
    "\n",
    "app = dash.Dash(__name__, external_stylesheets=external_stylesheets)\n",
    "app.title = 'Crypto Exchange Price Compare'\n",
    "\n",
    "app.layout = html.Div(\n",
    "    [  \n",
    "        html.Div(\n",
    "            [\n",
    "                html.Label('Symbol'),\n",
    "                dcc.Dropdown(\n",
    "                    id='symbol',\n",
    "                    options=[\n",
    "                        {'label': symbol, 'value': symbol} for symbol in symbols\n",
    "                    ],value='BTC'),\n",
    "             ],style={'width': '20%', 'display': 'inline-block'}),\n",
    "        html.Div(id='my-table'),\n",
    "        html.Div(\n",
    "            [\n",
    "                dcc.Tabs(id=\"tabs-history\", value='tab-history', children=[\n",
    "                dcc.Tab(label='24 hours trend', value='tab-24-hours',style=tab_style, selected_style=tab_selected_style),\n",
    "                dcc.Tab(label='1 month trend', value='tab-1-month',style=tab_style, selected_style=tab_selected_style),\n",
    "                dcc.Tab(label='1 year trend', value='tab-1-year',style=tab_style, selected_style=tab_selected_style),\n",
    "                ],style=tabs_styles),\n",
    "                dcc.Graph(id='trend-chart')\n",
    "            ],style={'width': '40%', 'display': 'inline-block'}),\n",
    "    \n",
    "    \n",
    "        \n",
    "        dcc.Interval(\n",
    "                id='interval-component',\n",
    "                interval=10*1000, # in milliseconds\n",
    "                n_intervals=0\n",
    "            )\n",
    "    ]\n",
    ")\n",
    "\n",
    "@app.callback(Output('my-table', 'children'), [Input('symbol', 'value'),Input('interval-component', 'n_intervals')])\n",
    "def table_update(selected_dropdown_value,n):\n",
    "    df1 = getRealtimeData(selected_dropdown_value)\n",
    "    return generate_table(df1)\n",
    "\n",
    "@app.callback(Output('trend-chart', 'figure'),\n",
    "              [Input('tabs-history', 'value'),Input('symbol', 'value')])\n",
    "def graph_update(tab,selected_dropdown_value):\n",
    "    if tab == 'tab-24-hours':\n",
    "        df = getHistoricalData(selected_dropdown_value,'day')\n",
    "    elif tab == 'tab-1-month':\n",
    "        df = getHistoricalData(selected_dropdown_value,'month')\n",
    "    elif tab == 'tab-1-year':\n",
    "        df = getHistoricalData(selected_dropdown_value,'year')\n",
    "    return {'data': [go.Scatter(x=df['time'],\n",
    "                                    y=df['close'],\n",
    "                                    mode='lines+markers')\n",
    "                            ]\n",
    "                }\n",
    "    \n",
    "\n",
    "if __name__ == '__main__':\n",
    "    app.run_server(debug=False,port=8000)"
   ]
  },
  {
   "cell_type": "code",
   "execution_count": null,
   "metadata": {},
   "outputs": [],
   "source": []
  }
 ],
 "metadata": {
  "kernelspec": {
   "display_name": "Python 3",
   "language": "python",
   "name": "python3"
  },
  "language_info": {
   "codemirror_mode": {
    "name": "ipython",
    "version": 3
   },
   "file_extension": ".py",
   "mimetype": "text/x-python",
   "name": "python",
   "nbconvert_exporter": "python",
   "pygments_lexer": "ipython3",
   "version": "3.6.5"
  }
 },
 "nbformat": 4,
 "nbformat_minor": 2
}
