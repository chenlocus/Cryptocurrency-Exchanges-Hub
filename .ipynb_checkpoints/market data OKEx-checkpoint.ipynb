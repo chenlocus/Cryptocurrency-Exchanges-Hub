{
 "cells": [
  {
   "cell_type": "code",
   "execution_count": 16,
   "metadata": {},
   "outputs": [
    {
     "name": "stdout",
     "output_type": "stream",
     "text": [
      "EOS-USDT\n",
      "{\"bid\": \"2.4055\", \"ask\": \"2.4064\", \"trade\": \"2.4055\"}\n"
     ]
    }
   ],
   "source": [
    "# gevent\n",
    "# bs4\n",
    "# gunicorn\n",
    "import os\n",
    "import requests\n",
    "import json\n",
    "\n",
    "def getUSDPrice(symbol):\n",
    "    symbol = symbol.upper()+'-USDT'\n",
    "    print(symbol)\n",
    "    url = \"https://www.okex.com/api/spot/v3/instruments/ticker\"\n",
    "    \n",
    "    response = requests.get(url)\n",
    "    \n",
    "    for x in response.json():\n",
    "        if x['instrument_id']==symbol:\n",
    "            data = {}\n",
    "            data['bid'] = x['best_bid']\n",
    "            data['ask'] = x['best_ask']\n",
    "            data['trade'] = x['last']\n",
    "            return json.dumps(data)\n",
    "    return None\n",
    "    \n",
    "code = 'eos'\n",
    "data = getUSDPrice(code)\n",
    "print(data)"
   ]
  },
  {
   "cell_type": "code",
   "execution_count": null,
   "metadata": {},
   "outputs": [],
   "source": []
  }
 ],
 "metadata": {
  "kernelspec": {
   "display_name": "Python 3",
   "language": "python",
   "name": "python3"
  },
  "language_info": {
   "codemirror_mode": {
    "name": "ipython",
    "version": 3
   },
   "file_extension": ".py",
   "mimetype": "text/x-python",
   "name": "python",
   "nbconvert_exporter": "python",
   "pygments_lexer": "ipython3",
   "version": "3.6.5"
  }
 },
 "nbformat": 4,
 "nbformat_minor": 2
}
